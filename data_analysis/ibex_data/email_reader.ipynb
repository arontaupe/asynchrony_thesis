{
 "cells": [
  {
   "cell_type": "code",
   "execution_count": 1,
   "id": "2dbaf98c",
   "metadata": {},
   "outputs": [],
   "source": [
    "#Import Statements\n",
    "import pandas as pd\n",
    "import math\n",
    "import numpy as np\n",
    "import matplotlib.pyplot as plt\n",
    "plt.rcParams[\"font.family\"] = \"sans-serif\"\n",
    "import seaborn as sns\n",
    "\n",
    "sns.set() # Setting seaborn as default style\n",
    "sns.set_theme()\n",
    "\n",
    "# declare global helpers\n",
    "condition_values = ['0ms','10ms','400ms','10ms echo','400ms echo']\n",
    "groupnames = [0,1,2,3,4]\n",
    "browsernames = [\"MSIE\", \"Firefox\", \"Safari\", \"Chrome\", \"Opera\"]"
   ]
  },
  {
   "cell_type": "code",
   "execution_count": 2,
   "id": "ccd3b9cf",
   "metadata": {},
   "outputs": [],
   "source": [
    "# Columns below this comment are as follows:\n",
    "# 1. Time results were received.\n",
    "# 2. MD5 hash of participant's IP address.\n",
    "# 3. Controller name.\n",
    "# 4. Item number.\n",
    "# 5. Element number.\n",
    "# 6. Type.\n",
    "# 7. Group.\n",
    "# 8. Field name.\n",
    "# 9. Field value.\n",
    "df = pd.read_csv('results_vp_hours.txt',\n",
    "                 sep = ',',\n",
    "                 comment='#', \n",
    "                 header=None,\n",
    "                 names = ['time','hash','controller','item','element', 'type', 'group','field_name', 'value'],\n",
    "                engine = 'python')\n"
   ]
  },
  {
   "cell_type": "code",
   "execution_count": 3,
   "id": "ad948f2f",
   "metadata": {},
   "outputs": [
    {
     "name": "stdout",
     "output_type": "stream",
     "text": [
      "<class 'pandas.core.frame.DataFrame'>\n",
      "RangeIndex: 12 entries, 0 to 11\n",
      "Data columns (total 9 columns):\n",
      " #   Column      Non-Null Count  Dtype  \n",
      "---  ------      --------------  -----  \n",
      " 0   time        12 non-null     int64  \n",
      " 1   hash        12 non-null     object \n",
      " 2   controller  12 non-null     object \n",
      " 3   item        12 non-null     int64  \n",
      " 4   element     12 non-null     int64  \n",
      " 5   type        12 non-null     object \n",
      " 6   group       0 non-null      float64\n",
      " 7   field_name  12 non-null     object \n",
      " 8   value       12 non-null     object \n",
      "dtypes: float64(1), int64(3), object(5)\n",
      "memory usage: 992.0+ bytes\n"
     ]
    }
   ],
   "source": [
    "df.info()"
   ]
  },
  {
   "cell_type": "code",
   "execution_count": 4,
   "id": "c868ac84",
   "metadata": {},
   "outputs": [
    {
     "data": {
      "text/plain": [
       "['Test Name',\n",
       " 'test@name.de',\n",
       " '12553',\n",
       " 'Petau%2C Aron',\n",
       " 'aron@petau.net',\n",
       " '42175',\n",
       " 'Petau%2C Aron',\n",
       " 'aron@petau.net',\n",
       " '24354',\n",
       " 'Pries%2C Tom',\n",
       " 'tpries@uos.de',\n",
       " '16839']"
      ]
     },
     "execution_count": 4,
     "metadata": {},
     "output_type": "execute_result"
    }
   ],
   "source": [
    "list(df['value'])"
   ]
  }
 ],
 "metadata": {
  "kernelspec": {
   "display_name": "Python 3",
   "language": "python",
   "name": "python3"
  },
  "language_info": {
   "codemirror_mode": {
    "name": "ipython",
    "version": 3
   },
   "file_extension": ".py",
   "mimetype": "text/x-python",
   "name": "python",
   "nbconvert_exporter": "python",
   "pygments_lexer": "ipython3",
   "version": "3.8.8"
  }
 },
 "nbformat": 4,
 "nbformat_minor": 5
}
