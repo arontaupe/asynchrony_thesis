{
 "cells": [
  {
   "cell_type": "markdown",
   "id": "6c4c0347",
   "metadata": {},
   "source": [
    "# Stat Analysis LME\n"
   ]
  },
  {
   "cell_type": "code",
   "execution_count": 24,
   "id": "ab0764ec",
   "metadata": {},
   "outputs": [
    {
     "ename": "ModuleNotFoundError",
     "evalue": "No module named 'pymer4'",
     "output_type": "error",
     "traceback": [
      "\u001b[1;31m---------------------------------------------------------------------------\u001b[0m",
      "\u001b[1;31mModuleNotFoundError\u001b[0m                       Traceback (most recent call last)",
      "\u001b[1;32m<ipython-input-24-4c5e2f24c82a>\u001b[0m in \u001b[0;36m<module>\u001b[1;34m\u001b[0m\n\u001b[0;32m      7\u001b[0m \u001b[1;32mimport\u001b[0m \u001b[0mstatsmodels\u001b[0m\u001b[1;33m.\u001b[0m\u001b[0mformula\u001b[0m\u001b[1;33m.\u001b[0m\u001b[0mapi\u001b[0m \u001b[1;32mas\u001b[0m \u001b[0msmf\u001b[0m\u001b[1;33m\u001b[0m\u001b[1;33m\u001b[0m\u001b[0m\n\u001b[0;32m      8\u001b[0m \u001b[1;32mfrom\u001b[0m \u001b[0mstatsmodels\u001b[0m\u001b[1;33m.\u001b[0m\u001b[0mtools\u001b[0m\u001b[1;33m.\u001b[0m\u001b[0msm_exceptions\u001b[0m \u001b[1;32mimport\u001b[0m \u001b[0mConvergenceWarning\u001b[0m\u001b[1;33m\u001b[0m\u001b[1;33m\u001b[0m\u001b[0m\n\u001b[1;32m----> 9\u001b[1;33m \u001b[1;32mimport\u001b[0m \u001b[0mpymer4\u001b[0m\u001b[1;33m\u001b[0m\u001b[1;33m\u001b[0m\u001b[0m\n\u001b[0m\u001b[0;32m     10\u001b[0m \u001b[1;32mfrom\u001b[0m \u001b[0mpymer4\u001b[0m\u001b[1;33m.\u001b[0m\u001b[0mmodels\u001b[0m \u001b[1;32mimport\u001b[0m \u001b[0mLmer\u001b[0m\u001b[1;33m\u001b[0m\u001b[1;33m\u001b[0m\u001b[0m\n\u001b[0;32m     11\u001b[0m \u001b[1;33m\u001b[0m\u001b[0m\n",
      "\u001b[1;31mModuleNotFoundError\u001b[0m: No module named 'pymer4'"
     ]
    }
   ],
   "source": [
    "#import statements\n",
    "%matplotlib inline\n",
    "\n",
    "import numpy as np\n",
    "import pandas as pd\n",
    "import statsmodels.api as sm\n",
    "import statsmodels.formula.api as smf\n",
    "from statsmodels.tools.sm_exceptions import ConvergenceWarning\n",
    "import pymer4\n",
    "from pymer4.models import Lmer\n",
    "\n",
    "import matplotlib.pyplot as plt\n",
    "plt.rcParams[\"font.family\"] = \"sans-serif\"\n",
    "import seaborn as sns\n",
    "\n",
    "sns.set() # Setting seaborn as default style\n",
    "sns.set_theme()"
   ]
  },
  {
   "cell_type": "code",
   "execution_count": 25,
   "id": "b6497e96",
   "metadata": {},
   "outputs": [
    {
     "name": "stdout",
     "output_type": "stream",
     "text": [
      "<class 'pandas.core.frame.DataFrame'>\n",
      "RangeIndex: 8740 entries, 0 to 8739\n",
      "Columns: 109 entries, choice_response.corr to Name_optional\n",
      "dtypes: float64(64), int64(5), object(40)\n",
      "memory usage: 7.3+ MB\n",
      "['choice_response.corr', 's_adjust.thisIndex', 'xResolution', 'SJ_trials_skip.thisIndex', 'SJ_trials_after.thisN', 'cont_0.keys', 'cont_2.keys', 's_adjust.thisN', 'cont_3.keys', 'participant', 'SJ_trials_after.thisIndex', 'cond', '__datetime', 'SJ_trials_after.ran', 'choice_response.rt', 'trials.ran', 'response_distortion.corr', 'group', 'cont_5.rt', 'key_resp.rt', 'entity2', 'psychopyVersion', 'attribute1', 'choice_response.keys', 'cont_6.rt', 'SJ_trials_before.thisN', 'imagePath2', 'exit.rt', 'SJ_trials_before.thisIndex', 'key_resp.keys', 'SJ_trials_between.thisTrialN', 'SJ_trials_after.thisRepN', 's_adjust.ran', 'training.thisIndex', 's_adjust.thisRepN', 'cont_2.rt', 'SJ_trials_between.thisN', 'trials.thisN', 'SJ_trials_before.thisRepN', '__participant', 'corrAns_synchronicity', 'training.thisRepN', 'SJ_trials_before.ran', 'target_loc', 'trials.thisTrialN', 'cont_4.rt', 'sentence_id', 'response_sync.rt', 'videoPath', 'cont_5.keys', 'SJ_trials_skip.thisTrialN', 'globalClockTime', 'cont_3.rt', 'response_distortion.keys', 'SJ_trials_between.thisIndex', 'id', 'cont_7.rt', 'block_counter_choice', 'SJ_trials_skip.thisN', 'cont_0.rt', 'expName', 'response_sync.keys', 'echo', 'trials.thisIndex', 'date', 'corrAns_distortion', 'show_attribute', 'cont_6.keys', 'entity1', 'corrAns_choice', 'SJ_trials_between.ran', 'SJ_trials_between.thisRepN', 'SJ_trials_skip.ran', 'cont_4.keys', 'trial_counter_choice', 'verb', 'trials.thisRepN', 'researcher', 'training.thisN', 'latency', 'SJ_trials_after.thisTrialN', 'training.thisTrialN', 'cont_7.keys', 'OS', 'cont_1.keys', 'frameRate', 'yResolution', 'cont_1.rt', 'imagePos', 's_adjust.thisTrialN', 'response_sync.corr', 'item', 'block_counter_sj', 'attribute2', 'browser', 'trial_counter_sj', 'imagePath', 'SJ_trials_skip.thisRepN', '__session', 'corrAns', 'sentence', 'response_distortion.rt', '__experimentName', 'fill_attribute', 'trial_counter_training', 'exit.keys', 'training.ran', 'SJ_trials_before.thisTrialN', 'Name_optional']\n"
     ]
    }
   ],
   "source": [
    "#read in source csv\n",
    "df = pd.read_csv (r'latest_results_pavlovia.csv',\n",
    "                  encoding='utf-8-sig')\n",
    "df.info()\n",
    "print([*df])"
   ]
  },
  {
   "cell_type": "markdown",
   "id": "0707f0d0",
   "metadata": {},
   "source": [
    "## Data Preprocessing"
   ]
  },
  {
   "cell_type": "markdown",
   "id": "4291c539",
   "metadata": {},
   "source": [
    "## Analysis"
   ]
  },
  {
   "cell_type": "code",
   "execution_count": 22,
   "id": "2350218b",
   "metadata": {},
   "outputs": [],
   "source": [
    "# define Variables\n",
    "\n",
    "# define dependent variable\n",
    "rt = df['choice_response.rt']\n",
    "# define independent variable\n",
    "cond = df['cond']\n",
    "#condition = pd.get_dummies(data=condition, drop_first=True)"
   ]
  },
  {
   "cell_type": "code",
   "execution_count": 23,
   "id": "7d26c66f",
   "metadata": {},
   "outputs": [
    {
     "ename": "NameError",
     "evalue": "name 'Lmer' is not defined",
     "output_type": "error",
     "traceback": [
      "\u001b[1;31m---------------------------------------------------------------------------\u001b[0m",
      "\u001b[1;31mNameError\u001b[0m                                 Traceback (most recent call last)",
      "\u001b[1;32m<ipython-input-23-4bc7819803a0>\u001b[0m in \u001b[0;36m<module>\u001b[1;34m\u001b[0m\n\u001b[1;32m----> 1\u001b[1;33m \u001b[0mmodel\u001b[0m \u001b[1;33m=\u001b[0m \u001b[0mLmer\u001b[0m\u001b[1;33m(\u001b[0m\u001b[1;34m'rt ~ cond'\u001b[0m\u001b[1;33m,\u001b[0m \u001b[0mdata\u001b[0m\u001b[1;33m=\u001b[0m\u001b[0mdf\u001b[0m\u001b[1;33m)\u001b[0m\u001b[1;33m\u001b[0m\u001b[1;33m\u001b[0m\u001b[0m\n\u001b[0m\u001b[0;32m      2\u001b[0m \u001b[0mdisplay\u001b[0m\u001b[1;33m(\u001b[0m\u001b[0mmodel\u001b[0m\u001b[1;33m.\u001b[0m\u001b[0mfit\u001b[0m\u001b[1;33m(\u001b[0m\u001b[1;33m)\u001b[0m\u001b[1;33m)\u001b[0m\u001b[1;33m\u001b[0m\u001b[1;33m\u001b[0m\u001b[0m\n\u001b[0;32m      3\u001b[0m \u001b[1;31m#result = model.fit()\u001b[0m\u001b[1;33m\u001b[0m\u001b[1;33m\u001b[0m\u001b[1;33m\u001b[0m\u001b[0m\n\u001b[0;32m      4\u001b[0m \u001b[1;31m#print result.summary()\u001b[0m\u001b[1;33m\u001b[0m\u001b[1;33m\u001b[0m\u001b[1;33m\u001b[0m\u001b[0m\n",
      "\u001b[1;31mNameError\u001b[0m: name 'Lmer' is not defined"
     ]
    }
   ],
   "source": [
    "model = Lmer('rt ~ cond', data=df)\n",
    "display(model.fit())\n",
    "#result = model.fit()\n",
    "#print result.summary()"
   ]
  },
  {
   "cell_type": "code",
   "execution_count": null,
   "id": "9dae5e42",
   "metadata": {},
   "outputs": [],
   "source": []
  }
 ],
 "metadata": {
  "kernelspec": {
   "display_name": "Python 3",
   "language": "python",
   "name": "python3"
  },
  "language_info": {
   "codemirror_mode": {
    "name": "ipython",
    "version": 3
   },
   "file_extension": ".py",
   "mimetype": "text/x-python",
   "name": "python",
   "nbconvert_exporter": "python",
   "pygments_lexer": "ipython3",
   "version": "3.8.8"
  }
 },
 "nbformat": 4,
 "nbformat_minor": 5
}
