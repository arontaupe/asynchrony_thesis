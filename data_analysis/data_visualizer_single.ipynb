{
 "cells": [
  {
   "cell_type": "markdown",
   "metadata": {},
   "source": [
    "# Analyzer for individual Participant results"
   ]
  },
  {
   "cell_type": "code",
   "execution_count": 1,
   "metadata": {
    "tags": [
     "import"
    ]
   },
   "outputs": [],
   "source": [
    "#Import Statements\n",
    "import pandas as pd\n",
    "import math\n",
    "import numpy as np\n",
    "import matplotlib.pyplot as plt\n",
    "plt.rcParams[\"font.family\"] = \"sans-serif\"\n",
    "import seaborn as sns\n",
    "#from statannot import add_stat_annotation\n",
    "\n",
    "sns.set()\n",
    "sns.set_theme()"
   ]
  },
  {
   "cell_type": "code",
   "execution_count": 2,
   "metadata": {
    "tags": [
     "df_read"
    ]
   },
   "outputs": [],
   "source": [
    "# declare global helpers\n",
    "condition_values = ['0ms','10ms','400ms','10ms echo','400ms echo']\n",
    "groupnames = [0,1,2,3,4]\n",
    "browsernames = [\"MSIE\", \"Firefox\", \"Safari\", \"Chrome\", \"Opera\"]"
   ]
  },
  {
   "cell_type": "code",
   "execution_count": 3,
   "metadata": {
    "tags": [
     "df_read"
    ]
   },
   "outputs": [
    {
     "ename": "FileNotFoundError",
     "evalue": "[Errno 2] No such file or directory: 'corr_results.csv'",
     "output_type": "error",
     "traceback": [
      "\u001b[1;31m---------------------------------------------------------------------------\u001b[0m",
      "\u001b[1;31mFileNotFoundError\u001b[0m                         Traceback (most recent call last)",
      "\u001b[1;32m<ipython-input-3-4551d02fb601>\u001b[0m in \u001b[0;36m<module>\u001b[1;34m\u001b[0m\n\u001b[0;32m      1\u001b[0m \u001b[1;31m#read in source csv\u001b[0m\u001b[1;33m\u001b[0m\u001b[1;33m\u001b[0m\u001b[1;33m\u001b[0m\u001b[0m\n\u001b[1;32m----> 2\u001b[1;33m df = pd.read_csv(r'corr_results.csv', encoding='utf-8-sig', \n\u001b[0m\u001b[0;32m      3\u001b[0m                   \u001b[0mlow_memory\u001b[0m\u001b[1;33m=\u001b[0m\u001b[1;32mFalse\u001b[0m\u001b[1;33m\u001b[0m\u001b[1;33m\u001b[0m\u001b[0m\n\u001b[0;32m      4\u001b[0m                  )\n\u001b[0;32m      5\u001b[0m \u001b[1;31m#cut down df to individual participant\u001b[0m\u001b[1;33m\u001b[0m\u001b[1;33m\u001b[0m\u001b[1;33m\u001b[0m\u001b[0m\n",
      "\u001b[1;32m~\\.conda\\envs\\ba\\lib\\site-packages\\pandas\\io\\parsers.py\u001b[0m in \u001b[0;36mread_csv\u001b[1;34m(filepath_or_buffer, sep, delimiter, header, names, index_col, usecols, squeeze, prefix, mangle_dupe_cols, dtype, engine, converters, true_values, false_values, skipinitialspace, skiprows, skipfooter, nrows, na_values, keep_default_na, na_filter, verbose, skip_blank_lines, parse_dates, infer_datetime_format, keep_date_col, date_parser, dayfirst, cache_dates, iterator, chunksize, compression, thousands, decimal, lineterminator, quotechar, quoting, doublequote, escapechar, comment, encoding, dialect, error_bad_lines, warn_bad_lines, delim_whitespace, low_memory, memory_map, float_precision, storage_options)\u001b[0m\n\u001b[0;32m    608\u001b[0m     \u001b[0mkwds\u001b[0m\u001b[1;33m.\u001b[0m\u001b[0mupdate\u001b[0m\u001b[1;33m(\u001b[0m\u001b[0mkwds_defaults\u001b[0m\u001b[1;33m)\u001b[0m\u001b[1;33m\u001b[0m\u001b[1;33m\u001b[0m\u001b[0m\n\u001b[0;32m    609\u001b[0m \u001b[1;33m\u001b[0m\u001b[0m\n\u001b[1;32m--> 610\u001b[1;33m     \u001b[1;32mreturn\u001b[0m \u001b[0m_read\u001b[0m\u001b[1;33m(\u001b[0m\u001b[0mfilepath_or_buffer\u001b[0m\u001b[1;33m,\u001b[0m \u001b[0mkwds\u001b[0m\u001b[1;33m)\u001b[0m\u001b[1;33m\u001b[0m\u001b[1;33m\u001b[0m\u001b[0m\n\u001b[0m\u001b[0;32m    611\u001b[0m \u001b[1;33m\u001b[0m\u001b[0m\n\u001b[0;32m    612\u001b[0m \u001b[1;33m\u001b[0m\u001b[0m\n",
      "\u001b[1;32m~\\.conda\\envs\\ba\\lib\\site-packages\\pandas\\io\\parsers.py\u001b[0m in \u001b[0;36m_read\u001b[1;34m(filepath_or_buffer, kwds)\u001b[0m\n\u001b[0;32m    460\u001b[0m \u001b[1;33m\u001b[0m\u001b[0m\n\u001b[0;32m    461\u001b[0m     \u001b[1;31m# Create the parser.\u001b[0m\u001b[1;33m\u001b[0m\u001b[1;33m\u001b[0m\u001b[1;33m\u001b[0m\u001b[0m\n\u001b[1;32m--> 462\u001b[1;33m     \u001b[0mparser\u001b[0m \u001b[1;33m=\u001b[0m \u001b[0mTextFileReader\u001b[0m\u001b[1;33m(\u001b[0m\u001b[0mfilepath_or_buffer\u001b[0m\u001b[1;33m,\u001b[0m \u001b[1;33m**\u001b[0m\u001b[0mkwds\u001b[0m\u001b[1;33m)\u001b[0m\u001b[1;33m\u001b[0m\u001b[1;33m\u001b[0m\u001b[0m\n\u001b[0m\u001b[0;32m    463\u001b[0m \u001b[1;33m\u001b[0m\u001b[0m\n\u001b[0;32m    464\u001b[0m     \u001b[1;32mif\u001b[0m \u001b[0mchunksize\u001b[0m \u001b[1;32mor\u001b[0m \u001b[0miterator\u001b[0m\u001b[1;33m:\u001b[0m\u001b[1;33m\u001b[0m\u001b[1;33m\u001b[0m\u001b[0m\n",
      "\u001b[1;32m~\\.conda\\envs\\ba\\lib\\site-packages\\pandas\\io\\parsers.py\u001b[0m in \u001b[0;36m__init__\u001b[1;34m(self, f, engine, **kwds)\u001b[0m\n\u001b[0;32m    817\u001b[0m             \u001b[0mself\u001b[0m\u001b[1;33m.\u001b[0m\u001b[0moptions\u001b[0m\u001b[1;33m[\u001b[0m\u001b[1;34m\"has_index_names\"\u001b[0m\u001b[1;33m]\u001b[0m \u001b[1;33m=\u001b[0m \u001b[0mkwds\u001b[0m\u001b[1;33m[\u001b[0m\u001b[1;34m\"has_index_names\"\u001b[0m\u001b[1;33m]\u001b[0m\u001b[1;33m\u001b[0m\u001b[1;33m\u001b[0m\u001b[0m\n\u001b[0;32m    818\u001b[0m \u001b[1;33m\u001b[0m\u001b[0m\n\u001b[1;32m--> 819\u001b[1;33m         \u001b[0mself\u001b[0m\u001b[1;33m.\u001b[0m\u001b[0m_engine\u001b[0m \u001b[1;33m=\u001b[0m \u001b[0mself\u001b[0m\u001b[1;33m.\u001b[0m\u001b[0m_make_engine\u001b[0m\u001b[1;33m(\u001b[0m\u001b[0mself\u001b[0m\u001b[1;33m.\u001b[0m\u001b[0mengine\u001b[0m\u001b[1;33m)\u001b[0m\u001b[1;33m\u001b[0m\u001b[1;33m\u001b[0m\u001b[0m\n\u001b[0m\u001b[0;32m    820\u001b[0m \u001b[1;33m\u001b[0m\u001b[0m\n\u001b[0;32m    821\u001b[0m     \u001b[1;32mdef\u001b[0m \u001b[0mclose\u001b[0m\u001b[1;33m(\u001b[0m\u001b[0mself\u001b[0m\u001b[1;33m)\u001b[0m\u001b[1;33m:\u001b[0m\u001b[1;33m\u001b[0m\u001b[1;33m\u001b[0m\u001b[0m\n",
      "\u001b[1;32m~\\.conda\\envs\\ba\\lib\\site-packages\\pandas\\io\\parsers.py\u001b[0m in \u001b[0;36m_make_engine\u001b[1;34m(self, engine)\u001b[0m\n\u001b[0;32m   1048\u001b[0m             )\n\u001b[0;32m   1049\u001b[0m         \u001b[1;31m# error: Too many arguments for \"ParserBase\"\u001b[0m\u001b[1;33m\u001b[0m\u001b[1;33m\u001b[0m\u001b[1;33m\u001b[0m\u001b[0m\n\u001b[1;32m-> 1050\u001b[1;33m         \u001b[1;32mreturn\u001b[0m \u001b[0mmapping\u001b[0m\u001b[1;33m[\u001b[0m\u001b[0mengine\u001b[0m\u001b[1;33m]\u001b[0m\u001b[1;33m(\u001b[0m\u001b[0mself\u001b[0m\u001b[1;33m.\u001b[0m\u001b[0mf\u001b[0m\u001b[1;33m,\u001b[0m \u001b[1;33m**\u001b[0m\u001b[0mself\u001b[0m\u001b[1;33m.\u001b[0m\u001b[0moptions\u001b[0m\u001b[1;33m)\u001b[0m  \u001b[1;31m# type: ignore[call-arg]\u001b[0m\u001b[1;33m\u001b[0m\u001b[1;33m\u001b[0m\u001b[0m\n\u001b[0m\u001b[0;32m   1051\u001b[0m \u001b[1;33m\u001b[0m\u001b[0m\n\u001b[0;32m   1052\u001b[0m     \u001b[1;32mdef\u001b[0m \u001b[0m_failover_to_python\u001b[0m\u001b[1;33m(\u001b[0m\u001b[0mself\u001b[0m\u001b[1;33m)\u001b[0m\u001b[1;33m:\u001b[0m\u001b[1;33m\u001b[0m\u001b[1;33m\u001b[0m\u001b[0m\n",
      "\u001b[1;32m~\\.conda\\envs\\ba\\lib\\site-packages\\pandas\\io\\parsers.py\u001b[0m in \u001b[0;36m__init__\u001b[1;34m(self, src, **kwds)\u001b[0m\n\u001b[0;32m   1865\u001b[0m \u001b[1;33m\u001b[0m\u001b[0m\n\u001b[0;32m   1866\u001b[0m         \u001b[1;31m# open handles\u001b[0m\u001b[1;33m\u001b[0m\u001b[1;33m\u001b[0m\u001b[1;33m\u001b[0m\u001b[0m\n\u001b[1;32m-> 1867\u001b[1;33m         \u001b[0mself\u001b[0m\u001b[1;33m.\u001b[0m\u001b[0m_open_handles\u001b[0m\u001b[1;33m(\u001b[0m\u001b[0msrc\u001b[0m\u001b[1;33m,\u001b[0m \u001b[0mkwds\u001b[0m\u001b[1;33m)\u001b[0m\u001b[1;33m\u001b[0m\u001b[1;33m\u001b[0m\u001b[0m\n\u001b[0m\u001b[0;32m   1868\u001b[0m         \u001b[1;32massert\u001b[0m \u001b[0mself\u001b[0m\u001b[1;33m.\u001b[0m\u001b[0mhandles\u001b[0m \u001b[1;32mis\u001b[0m \u001b[1;32mnot\u001b[0m \u001b[1;32mNone\u001b[0m\u001b[1;33m\u001b[0m\u001b[1;33m\u001b[0m\u001b[0m\n\u001b[0;32m   1869\u001b[0m         \u001b[1;32mfor\u001b[0m \u001b[0mkey\u001b[0m \u001b[1;32min\u001b[0m \u001b[1;33m(\u001b[0m\u001b[1;34m\"storage_options\"\u001b[0m\u001b[1;33m,\u001b[0m \u001b[1;34m\"encoding\"\u001b[0m\u001b[1;33m,\u001b[0m \u001b[1;34m\"memory_map\"\u001b[0m\u001b[1;33m,\u001b[0m \u001b[1;34m\"compression\"\u001b[0m\u001b[1;33m)\u001b[0m\u001b[1;33m:\u001b[0m\u001b[1;33m\u001b[0m\u001b[1;33m\u001b[0m\u001b[0m\n",
      "\u001b[1;32m~\\.conda\\envs\\ba\\lib\\site-packages\\pandas\\io\\parsers.py\u001b[0m in \u001b[0;36m_open_handles\u001b[1;34m(self, src, kwds)\u001b[0m\n\u001b[0;32m   1360\u001b[0m         \u001b[0mLet\u001b[0m \u001b[0mthe\u001b[0m \u001b[0mreaders\u001b[0m \u001b[0mopen\u001b[0m \u001b[0mIOHanldes\u001b[0m \u001b[0mafter\u001b[0m \u001b[0mthey\u001b[0m \u001b[0mare\u001b[0m \u001b[0mdone\u001b[0m \u001b[1;32mwith\u001b[0m \u001b[0mtheir\u001b[0m \u001b[0mpotential\u001b[0m \u001b[0mraises\u001b[0m\u001b[1;33m.\u001b[0m\u001b[1;33m\u001b[0m\u001b[1;33m\u001b[0m\u001b[0m\n\u001b[0;32m   1361\u001b[0m         \"\"\"\n\u001b[1;32m-> 1362\u001b[1;33m         self.handles = get_handle(\n\u001b[0m\u001b[0;32m   1363\u001b[0m             \u001b[0msrc\u001b[0m\u001b[1;33m,\u001b[0m\u001b[1;33m\u001b[0m\u001b[1;33m\u001b[0m\u001b[0m\n\u001b[0;32m   1364\u001b[0m             \u001b[1;34m\"r\"\u001b[0m\u001b[1;33m,\u001b[0m\u001b[1;33m\u001b[0m\u001b[1;33m\u001b[0m\u001b[0m\n",
      "\u001b[1;32m~\\.conda\\envs\\ba\\lib\\site-packages\\pandas\\io\\common.py\u001b[0m in \u001b[0;36mget_handle\u001b[1;34m(path_or_buf, mode, encoding, compression, memory_map, is_text, errors, storage_options)\u001b[0m\n\u001b[0;32m    640\u001b[0m                 \u001b[0merrors\u001b[0m \u001b[1;33m=\u001b[0m \u001b[1;34m\"replace\"\u001b[0m\u001b[1;33m\u001b[0m\u001b[1;33m\u001b[0m\u001b[0m\n\u001b[0;32m    641\u001b[0m             \u001b[1;31m# Encoding\u001b[0m\u001b[1;33m\u001b[0m\u001b[1;33m\u001b[0m\u001b[1;33m\u001b[0m\u001b[0m\n\u001b[1;32m--> 642\u001b[1;33m             handle = open(\n\u001b[0m\u001b[0;32m    643\u001b[0m                 \u001b[0mhandle\u001b[0m\u001b[1;33m,\u001b[0m\u001b[1;33m\u001b[0m\u001b[1;33m\u001b[0m\u001b[0m\n\u001b[0;32m    644\u001b[0m                 \u001b[0mioargs\u001b[0m\u001b[1;33m.\u001b[0m\u001b[0mmode\u001b[0m\u001b[1;33m,\u001b[0m\u001b[1;33m\u001b[0m\u001b[1;33m\u001b[0m\u001b[0m\n",
      "\u001b[1;31mFileNotFoundError\u001b[0m: [Errno 2] No such file or directory: 'corr_results.csv'"
     ]
    }
   ],
   "source": [
    "#read in source csv\n",
    "df = pd.read_csv(r'data/corr_results.csv', encoding='utf-8-sig', \n",
    "                  low_memory=False\n",
    "                 )\n",
    "#cut down df to individual participant\n",
    "df = df[df['participant'] == 143]\n",
    "# Here we can see all tracked variables\n",
    "df.info()\n",
    "print(list(df.columns))"
   ]
  },
  {
   "cell_type": "markdown",
   "metadata": {},
   "source": [
    "## General Info"
   ]
  },
  {
   "cell_type": "code",
   "execution_count": null,
   "metadata": {
    "tags": [
     "overview"
    ]
   },
   "outputs": [],
   "source": [
    "exp = df['expName'].iloc[0]\n",
    "print('Exp: ',exp)\n",
    "os = df['OS'].iloc[0]\n",
    "print('OS: ',os)\n",
    "browser = df['browser'].iloc[0]\n",
    "print('Browser: ',browser)\n",
    "res = (df['xResolution'].iloc[0], df['yResolution'].iloc[0])\n",
    "print('Resolution: ',res)\n",
    "fr = df['frameRate'].iloc[0]\n",
    "print('Framerate: ',browser)\n",
    "eid = df['id'].iloc[0]\n",
    "print('Experiment ID: ',eid)\n",
    "pid = df['participant'].iloc[0]\n",
    "print('Participant ID: ',pid)\n",
    "date = df['date'].iloc[0]\n",
    "print('Date: ',date)\n",
    "group = df['group'].iloc[0]\n",
    "print('Group: ',group)\n",
    "switch = df['target_loc'].median() ==  1\n",
    "print('Images reversed: ',switch)\n",
    "trials_ = df['trials.ran'].count()\n"
   ]
  },
  {
   "cell_type": "code",
   "execution_count": null,
   "metadata": {},
   "outputs": [],
   "source": [
    "# plot time needed\n",
    "fig = plt.gcf()\n",
    "# Change seaborn plot size\n",
    "fig.set_size_inches(10, 8)\n",
    "\n",
    "# Increase font size\n",
    "sns.set(font_scale=1.5)\n",
    "\n",
    "time = df['globalClockTime'] / 60\n",
    "\n",
    "\n",
    "sns.histplot( data=df, \n",
    "             x = time ,\n",
    "             hue = 'participant',\n",
    "             cumulative = True,\n",
    "             element=\"step\", fill=False,\n",
    "             stat=\"density\", \n",
    "             common_norm=False,\n",
    "             #stat = 'count',\n",
    "             #multiple=\"dodge\", \n",
    "             #discrete = True,\n",
    "#              shrink=.8\n",
    "            )\n",
    "\n",
    "# Change Axis labels:\n",
    "\n",
    "#plt.xlabel('Group')\n",
    "plt.ylabel('Progress')\n",
    "plt.ylabel('Time in Minutes')\n",
    "plt.title('Temporal Progress over blocks')"
   ]
  },
  {
   "cell_type": "markdown",
   "metadata": {},
   "source": [
    "# Analysis of choice trial"
   ]
  },
  {
   "cell_type": "code",
   "execution_count": null,
   "metadata": {},
   "outputs": [],
   "source": [
    "### Divide data into subsets correct / incorrect\n",
    "\n",
    "# Filter out incorrect responses\n",
    "df_corr = df.drop(df[df['choice_response.corr'] == 0].index)\n",
    "df_corr = df_corr.drop(df_corr[df_corr['target_loc'] == 2].index)\n",
    "#df_corr.shape\n",
    "\n",
    "# Filter out correct responses\n",
    "df_incorr = df.drop(df[df['choice_response.corr'] == 1].index)\n",
    "df_incorr = df_incorr.drop(df_incorr[df_incorr['target_loc'] == 2].index)\n",
    "#df_incorr.shape\n",
    "\n",
    "# Only Filler trials\n",
    "df_filler = df.drop(df[df['target_loc'] < 2].index)\n",
    "#df_filler['target_loc'].unique()\n",
    "# no Filler trials\n",
    "df_no_filler = df.drop(df[df['target_loc'] == 2].index)"
   ]
  },
  {
   "cell_type": "code",
   "execution_count": null,
   "metadata": {
    "tags": [
     "rt",
     "choice"
    ]
   },
   "outputs": [],
   "source": [
    "fig = plt.gcf()\n",
    "# Change seaborn plot size\n",
    "fig.set_size_inches(10, 8)\n",
    "\n",
    "# Increase font size\n",
    "sns.set(font_scale=1.5)\n",
    "\n",
    "ax = sns.histplot(data = df,\n",
    "             x = 'choice_response.rt',\n",
    "             hue = 'choice_response.corr',\n",
    "                  #col = 'imagePos',\n",
    "            kde=True)\n",
    "\n",
    "\n",
    "\n",
    "ax.set(xlim=(0, 10))\n",
    "\n",
    "\n",
    "# Change Axis labels:\n",
    "plt.xlabel('Response Time')\n",
    "plt.ylabel('Occurrence')\n",
    "plt.title('Distribution of Choice RT Correct vs Incorrect')\n",
    "plt.legend( bbox_to_anchor=(1.05, 1), loc=2, borderaxespad=0.)\n",
    "\n",
    "\n",
    "plt.show()"
   ]
  },
  {
   "cell_type": "code",
   "execution_count": null,
   "metadata": {},
   "outputs": [],
   "source": [
    "trials = df['trials.ran'].count()\n",
    "trials"
   ]
  },
  {
   "cell_type": "code",
   "execution_count": null,
   "metadata": {
    "tags": [
     "rt",
     "choice"
    ]
   },
   "outputs": [],
   "source": [
    "means_by_cond = df.groupby('cond')['choice_response.rt'].mean()\n",
    "print(' Means over conditions: ', means_by_cond)\n",
    "\n",
    "fig = plt.gcf()\n",
    "# Change seaborn plot size\n",
    "fig.set_size_inches(10, 8)\n",
    "\n",
    "# Increase font size\n",
    "sns.set(font_scale=1.5)\n",
    "\n",
    "sns.violinplot(y='choice_response.rt', \n",
    "               x=\"cond\",\n",
    "              data=df,\n",
    "              showmeans=True).set_xticklabels(condition_values)\n",
    "\n",
    "# Change Axis labels:\n",
    "plt.xlabel('Condition')\n",
    "plt.ylabel('Response Time (MSec)')\n",
    "plt.title('Response times over conditions in choice trial')"
   ]
  },
  {
   "cell_type": "code",
   "execution_count": null,
   "metadata": {
    "tags": [
     "rt",
     "choice"
    ]
   },
   "outputs": [],
   "source": [
    "fig = plt.gcf()\n",
    "# Change seaborn plot size\n",
    "fig.set_size_inches(10, 8)\n",
    "\n",
    "# Increase font size\n",
    "sns.set(font_scale=1.5)\n",
    "\n",
    "sns.boxplot(y='choice_response.rt', x=\"cond\",\n",
    "              data=df,\n",
    "           showmeans=True).set_xticklabels(condition_values)\n",
    "\n",
    "# Change Axis labels:\n",
    "plt.xlabel('Condition')\n",
    "plt.ylabel('Response Time (MSec)')\n",
    "plt.title('Response times over different conditions')"
   ]
  },
  {
   "cell_type": "code",
   "execution_count": null,
   "metadata": {
    "tags": [
     "corr",
     "choice"
    ]
   },
   "outputs": [],
   "source": [
    "fig = plt.gcf()\n",
    "# Change seaborn plot size\n",
    "fig.set_size_inches(10, 8)\n",
    "\n",
    "# Increase font size\n",
    "sns.set(font_scale=1.5)\n",
    "\n",
    "\n",
    "\n",
    "ax = sns.barplot(y='choice_response.corr',\n",
    "                x= 'cond',\n",
    "                 data=df, \n",
    "                  #ci=None\n",
    "                )\n",
    "\n",
    "for p in ax.patches:\n",
    "    ax.annotate(format(p.get_height(), '.2f'), \n",
    "                   (p.get_x() + p.get_width() / 2., p.get_height()), \n",
    "                   ha = 'center', va = 'center', \n",
    "                   xytext = (0, -50), \n",
    "                   textcoords = 'offset points')\n",
    "# Change Axis labels:\n",
    "plt.legend(loc = 'upper left')\n",
    "plt.xlabel('Condition')\n",
    "plt.ylabel('Count')\n",
    "plt.title('Correct Responses over conditions in choice trial')"
   ]
  },
  {
   "cell_type": "markdown",
   "metadata": {},
   "source": [
    "## Response Time over experiment Progress"
   ]
  },
  {
   "cell_type": "code",
   "execution_count": null,
   "metadata": {
    "tags": [
     "rt"
    ]
   },
   "outputs": [],
   "source": [
    "fig = plt.gcf()\n",
    "# Change seaborn plot size\n",
    "fig.set_size_inches(10, 8)\n",
    "\n",
    "# Increase font size\n",
    "sns.set(font_scale=1.5)\n",
    "\n",
    "sns.regplot(y='choice_response.rt',\n",
    "             x='trials.thisTrialN',\n",
    "            #hue = 'choice_response.corr',\n",
    "              data=df)\n",
    "\n",
    "# Change Axis labels:\n",
    "plt.legend(loc = 'upper left')\n",
    "plt.xlabel('Choice Trials')\n",
    "plt.ylabel('RT')\n",
    "plt.title('RTs over all trials')\n"
   ]
  },
  {
   "cell_type": "code",
   "execution_count": null,
   "metadata": {},
   "outputs": [],
   "source": [
    "# Filter out correct responses\n",
    "df_incorr = df.drop(df[df['choice_response.corr'] == 1].index)\n",
    "df_incorr = df_incorr.drop(df_incorr[df_incorr['target_loc'] == 2].index)\n",
    "df_incorr.shape"
   ]
  },
  {
   "cell_type": "code",
   "execution_count": null,
   "metadata": {},
   "outputs": [],
   "source": [
    "fig = plt.gcf()\n",
    "# Change seaborn plot size\n",
    "fig.set_size_inches(10, 8)\n",
    "\n",
    "# Increase font size\n",
    "sns.set(font_scale=1.5)\n",
    "\n",
    "sns.regplot(y='choice_response.rt',\n",
    "             x='trials.thisTrialN',\n",
    "            #hue = 'choice_response.corr',\n",
    "              data=df)\n",
    "\n",
    "# Change Axis labels:\n",
    "plt.legend(loc = 'upper left')\n",
    "plt.xlabel('Choice Trials')\n",
    "plt.ylabel('RT')\n",
    "plt.title('RTs over all incorrectly answered trials')\n"
   ]
  },
  {
   "cell_type": "code",
   "execution_count": null,
   "metadata": {},
   "outputs": [],
   "source": [
    "# Filter out incorrect responses\n",
    "df_corr = df.drop(df[df['choice_response.corr'] == 0].index)\n",
    "df_corr = df_corr.drop(df_corr[df_corr['target_loc'] == 2].index)\n",
    "df_corr.shape"
   ]
  },
  {
   "cell_type": "code",
   "execution_count": null,
   "metadata": {},
   "outputs": [],
   "source": [
    "fig = plt.gcf()\n",
    "# Change seaborn plot size\n",
    "fig.set_size_inches(10, 8)\n",
    "\n",
    "# Increase font size\n",
    "sns.set(font_scale=1.5)\n",
    "\n",
    "sns.regplot(y='choice_response.rt',\n",
    "             x='trials.thisTrialN',\n",
    "            #hue = 'choice_response.corr',\n",
    "              data=df_corr)\n",
    "\n",
    "# Change Axis labels:\n",
    "plt.legend(loc = 'upper left')\n",
    "plt.xlabel('Choice Trials')\n",
    "plt.ylabel('RT')\n",
    "plt.title('RTs over correctly answered non-filler trials')"
   ]
  },
  {
   "cell_type": "code",
   "execution_count": null,
   "metadata": {},
   "outputs": [],
   "source": [
    "# Filter out incorrect responses\n",
    "df_filler = df.drop(df[df['target_loc'] < 2].index)\n",
    "df_filler['target_loc'].unique()\n",
    "\n",
    "fig = plt.gcf()\n",
    "# Change seaborn plot size\n",
    "fig.set_size_inches(10, 8)\n",
    "\n",
    "# Increase font size\n",
    "sns.set(font_scale=1.5)\n",
    "\n",
    "sns.regplot(y='choice_response.rt',\n",
    "             x='trials.thisTrialN',\n",
    "            #hue = 'choice_response.corr',\n",
    "              data=df_filler)\n",
    "\n",
    "# Change Axis labels:\n",
    "plt.legend(loc = 'upper left')\n",
    "plt.xlabel('Choice Trials')\n",
    "plt.ylabel('RT')\n",
    "plt.title('RTs over filler trials')"
   ]
  },
  {
   "cell_type": "code",
   "execution_count": null,
   "metadata": {},
   "outputs": [],
   "source": [
    "fig = plt.gcf()\n",
    "# Change seaborn plot size\n",
    "fig.set_size_inches(10, 8)\n",
    "\n",
    "# Increase font size\n",
    "sns.set(font_scale=1.5)\n",
    "\n",
    "sns.countplot(hue='choice_response.corr', x=\"cond\",\n",
    "              data=df_filler).set_xticklabels(condition_values)\n",
    "\n",
    "# Change Axis labels:\n",
    "plt.legend(loc = 'upper left')\n",
    "plt.xlabel('Condition')\n",
    "plt.ylabel('Count')\n",
    "plt.title('Correct Responses over conditions in filler trials')"
   ]
  },
  {
   "cell_type": "code",
   "execution_count": null,
   "metadata": {
    "tags": [
     "corr",
     "rt"
    ]
   },
   "outputs": [],
   "source": [
    "fig = plt.gcf()\n",
    "# Change seaborn plot size\n",
    "fig.set_size_inches(10, 8)\n",
    "\n",
    "# Increase font size\n",
    "sns.set(font_scale=1.5)\n",
    "\n",
    "sns.relplot(y='choice_response.rt',  x='trials.thisTrialN', hue=\"choice_response.corr\", data=df);\n",
    "\n",
    "# Change Axis labels:\n",
    "plt.xlabel('Choice Trials')\n",
    "plt.ylabel('RT')\n",
    "plt.title('Correct / Incorrect RTs over all trials')"
   ]
  },
  {
   "cell_type": "markdown",
   "metadata": {},
   "source": [
    "# Analysis of SJ task"
   ]
  },
  {
   "cell_type": "code",
   "execution_count": null,
   "metadata": {},
   "outputs": [],
   "source": [
    "fig, axes = plt.subplots(1, 2)\n",
    "# Change seaborn plot size\n",
    "fig.set_size_inches(16, 8)\n",
    "\n",
    "# Increase font size\n",
    "sns.set(font_scale=1.5)\n",
    "\n",
    "\n",
    "fig.suptitle('Correct Responses In SJ Task')\n",
    "axes[0].set_title('Synchrony Question')\n",
    "axes[1].set_title('Distortion Question')\n",
    "\n",
    "sns.countplot(ax=axes[0],hue='response_sync.corr', x=\"cond\",data=df).set_xticklabels(condition_values)\n",
    "sns.countplot(ax=axes[1],hue='response_distortion.corr', x=\"cond\",data=df).set_xticklabels(condition_values)\n",
    "\n",
    "# Change Axis labels:\n",
    "axes[0].legend(loc = 'upper left')\n",
    "axes[1].legend(loc = 'upper right')\n"
   ]
  },
  {
   "cell_type": "code",
   "execution_count": null,
   "metadata": {},
   "outputs": [],
   "source": [
    "fig, axes = plt.subplots(3, 1)\n",
    "# Change seaborn plot size\n",
    "fig.set_size_inches(10, 8)\n",
    "\n",
    "# Increase font size\n",
    "sns.set(font_scale=1.5)\n",
    "\n",
    "sns.regplot(y='response_sync.corr',\n",
    "            x = 'SJ_trials_before.thisTrialN',\n",
    "            data=df,\n",
    "            truncate = True,\n",
    "           logistic = True,\n",
    "           ax = axes[0])\n",
    "sns.regplot(y='response_sync.corr',\n",
    "            x = 'SJ_trials_between.thisTrialN',\n",
    "            data=df,\n",
    "            truncate = True,\n",
    "           logistic = True,\n",
    "           ax = axes[1])\n",
    "\n",
    "sns.regplot(y='response_sync.corr',\n",
    "            x = 'SJ_trials_after.thisTrialN',\n",
    "            data=df,\n",
    "            truncate = True,\n",
    "           logistic = True,\n",
    "           ax = axes[2])\n",
    "\n",
    "\n",
    "# Change Axis labels:\n",
    "axes[0].set_title('Block 1')\n",
    "axes[1].set_title('Block 2')\n",
    "axes[2].set_title('Block 3')\n",
    "plt.suptitle('Correctness of SJ synchrony answers over trials')"
   ]
  },
  {
   "cell_type": "markdown",
   "metadata": {},
   "source": []
  }
 ],
 "metadata": {
  "kernelspec": {
   "display_name": "Python 3",
   "language": "python",
   "name": "python3"
  },
  "language_info": {
   "codemirror_mode": {
    "name": "ipython",
    "version": 3
   },
   "file_extension": ".py",
   "mimetype": "text/x-python",
   "name": "python",
   "nbconvert_exporter": "python",
   "pygments_lexer": "ipython3",
   "version": "3.9.4"
  }
 },
 "nbformat": 4,
 "nbformat_minor": 4
}
