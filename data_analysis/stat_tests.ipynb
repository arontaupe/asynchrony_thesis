{
 "cells": [
  {
   "cell_type": "markdown",
   "id": "0c76a592",
   "metadata": {},
   "source": [
    "# Statistical analysis"
   ]
  },
  {
   "cell_type": "code",
   "execution_count": null,
   "id": "8b3f6e98",
   "metadata": {},
   "outputs": [],
   "source": [
    "#Import Statements\n",
    "import pandas as pd\n",
    "import math\n",
    "import numpy as np\n",
    "import matplotlib.pyplot as plt\n",
    "plt.rcParams[\"font.family\"] = \"sans-serif\"\n",
    "import seaborn as sns\n",
    "import statsmodels.api as sm\n",
    "import statsmodels.formula.api as smf\n",
    "import chardet\n",
    "from statsmodels.sandbox.regression.predstd import wls_prediction_std\n",
    "from statsmodels.formula.api import ols\n",
    "from statannot import add_stat_annotation\n",
    "from statsmodels.stats.anova import AnovaRM\n",
    "\n",
    "sns.set() # Setting seaborn as default style\n",
    "sns.set_theme()"
   ]
  },
  {
   "cell_type": "code",
   "execution_count": null,
   "id": "f087cf74",
   "metadata": {},
   "outputs": [],
   "source": [
    "#read in source csv\n",
    "df = pd.read_csv (r'Database_AllParticipants_av_experiment_122522_2021-04-16_08h48.38_8b7284ca-9e90-11eb-a72a-ac1f6b405aea.csv',\n",
    "                  encoding='utf-8-sig')\n",
    "df.info()\n",
    "print([*df])"
   ]
  },
  {
   "cell_type": "code",
   "execution_count": null,
   "id": "bc84b79a",
   "metadata": {},
   "outputs": [],
   "source": []
  },
  {
   "cell_type": "markdown",
   "id": "3ce05313",
   "metadata": {},
   "source": [
    "## Statistical Analysis"
   ]
  },
  {
   "cell_type": "code",
   "execution_count": 541,
   "id": "7346fc87",
   "metadata": {},
   "outputs": [],
   "source": [
    "df_no_na = df[df['choice_response.rt'].notna()]"
   ]
  },
  {
   "cell_type": "code",
   "execution_count": 542,
   "id": "8e682641",
   "metadata": {},
   "outputs": [],
   "source": [
    "# define dependent variable\n",
    "rt = df_no_na['choice_response.rt']"
   ]
  },
  {
   "cell_type": "code",
   "execution_count": 543,
   "id": "ef9aafe2",
   "metadata": {},
   "outputs": [],
   "source": []
  },
  {
   "cell_type": "code",
   "execution_count": 544,
   "id": "083d436a",
   "metadata": {},
   "outputs": [],
   "source": [
    "condition = sm.add_constant(condition)"
   ]
  },
  {
   "cell_type": "code",
   "execution_count": 545,
   "id": "d33287ab",
   "metadata": {},
   "outputs": [
    {
     "data": {
      "text/plain": [
       "Intercept       1.727009\n",
       "condition[0]    1.727009\n",
       "condition[1]   -0.255677\n",
       "condition[2]    0.113647\n",
       "condition[3]   -0.337089\n",
       "condition[4]    0.054083\n",
       "dtype: float64"
      ]
     },
     "execution_count": 545,
     "metadata": {},
     "output_type": "execute_result"
    }
   ],
   "source": [
    "results = ols(data = df_no_na, formula = 'rt ~ condition').fit() \n",
    "\n",
    "results.params"
   ]
  },
  {
   "cell_type": "code",
   "execution_count": 546,
   "id": "d4f5f926",
   "metadata": {},
   "outputs": [
    {
     "data": {
      "text/plain": [
       "Intercept       23.107873\n",
       "condition[0]    23.107873\n",
       "condition[1]    -1.222513\n",
       "condition[2]     0.542997\n",
       "condition[3]    -1.614156\n",
       "condition[4]     0.259166\n",
       "dtype: float64"
      ]
     },
     "execution_count": 546,
     "metadata": {},
     "output_type": "execute_result"
    }
   ],
   "source": [
    "results.tvalues"
   ]
  },
  {
   "cell_type": "code",
   "execution_count": 547,
   "id": "0f036989",
   "metadata": {},
   "outputs": [
    {
     "name": "stdout",
     "output_type": "stream",
     "text": [
      "                            OLS Regression Results                            \n",
      "==============================================================================\n",
      "Dep. Variable:                     rt   R-squared:                       0.005\n",
      "Model:                            OLS   Adj. R-squared:                  0.002\n",
      "Method:                 Least Squares   F-statistic:                     1.856\n",
      "Date:                Fri, 16 Apr 2021   Prob (F-statistic):              0.116\n",
      "Time:                        14:39:48   Log-Likelihood:                -3941.8\n",
      "No. Observations:                1645   AIC:                             7894.\n",
      "Df Residuals:                    1640   BIC:                             7921.\n",
      "Df Model:                           4                                         \n",
      "Covariance Type:            nonrobust                                         \n",
      "================================================================================\n",
      "                   coef    std err          t      P>|t|      [0.025      0.975]\n",
      "--------------------------------------------------------------------------------\n",
      "Intercept        1.7270      0.075     23.108      0.000       1.580       1.874\n",
      "condition[0]     1.7270      0.075     23.108      0.000       1.580       1.874\n",
      "condition[1]    -0.2557      0.209     -1.223      0.222      -0.666       0.155\n",
      "condition[2]     0.1136      0.209      0.543      0.587      -0.297       0.524\n",
      "condition[3]    -0.3371      0.209     -1.614      0.107      -0.747       0.073\n",
      "condition[4]     0.0541      0.209      0.259      0.796      -0.355       0.463\n",
      "==============================================================================\n",
      "Omnibus:                     3590.009   Durbin-Watson:                   1.743\n",
      "Prob(Omnibus):                  0.000   Jarque-Bera (JB):         19632616.715\n",
      "Skew:                          18.777   Prob(JB):                         0.00\n",
      "Kurtosis:                     536.876   Cond. No.                     1.16e+16\n",
      "==============================================================================\n",
      "\n",
      "Notes:\n",
      "[1] Standard Errors assume that the covariance matrix of the errors is correctly specified.\n",
      "[2] The smallest eigenvalue is 2.63e-29. This might indicate that there are\n",
      "strong multicollinearity problems or that the design matrix is singular.\n"
     ]
    }
   ],
   "source": [
    "print(results.summary())"
   ]
  },
  {
   "cell_type": "code",
   "execution_count": 548,
   "id": "0aefe4ae",
   "metadata": {},
   "outputs": [
    {
     "name": "stdout",
     "output_type": "stream",
     "text": [
      "Parameters:  Intercept       1.727009\n",
      "condition[0]    1.727009\n",
      "condition[1]   -0.255677\n",
      "condition[2]    0.113647\n",
      "condition[3]   -0.337089\n",
      "condition[4]    0.054083\n",
      "dtype: float64\n",
      "R2:  0.004506018828513092\n",
      "Standard errors:  Intercept       0.074737\n",
      "condition[0]    0.074737\n",
      "condition[1]    0.209140\n",
      "condition[2]    0.209295\n",
      "condition[3]    0.208833\n",
      "condition[4]    0.208680\n",
      "dtype: float64\n",
      "Predicted values:  [3.56766467 3.50810073 3.11692874 ... 3.45401784 3.50810073 3.56766467]\n"
     ]
    }
   ],
   "source": [
    "print('Parameters: ', results.params)\n",
    "print('R2: ', results.rsquared)\n",
    "print('Standard errors: ', results.bse)\n",
    "print('Predicted values: ', results.predict())"
   ]
  },
  {
   "cell_type": "markdown",
   "id": "2af858c6",
   "metadata": {},
   "source": [
    "### T test"
   ]
  },
  {
   "cell_type": "code",
   "execution_count": 549,
   "id": "0485a99e",
   "metadata": {},
   "outputs": [
    {
     "name": "stdout",
     "output_type": "stream",
     "text": [
      "                             Test for Constraints                             \n",
      "==============================================================================\n",
      "                 coef    std err          t      P>|t|      [0.025      0.975]\n",
      "------------------------------------------------------------------------------\n",
      "c0             1.9827      0.268      7.406      0.000       1.458       2.508\n",
      "c1             2.0641      0.267      7.717      0.000       1.539       2.589\n",
      "c2             1.6134      0.268      6.024      0.000       1.088       2.139\n",
      "c3             1.7270      0.075     23.108      0.000       1.580       1.874\n",
      "==============================================================================\n"
     ]
    }
   ],
   "source": [
    "# Hypothesis =  condition 0 and 1 are the same\n",
    "t_test = results.t_test('condition[0] = condition[1], condition[0] = condition[3], condition[0] = condition[2], condition[0]')\n",
    "print(t_test)              "
   ]
  },
  {
   "cell_type": "markdown",
   "id": "4d93cfec",
   "metadata": {},
   "source": [
    "### Outlier test\n",
    "\n",
    "Returns either an ndarray or a DataFrame if labels is not None. Will attempt to get labels from model_results if available. The columns are the Studentized residuals, the unadjusted p-value, and the corrected p-value according to method.\n"
   ]
  },
  {
   "cell_type": "code",
   "execution_count": 550,
   "id": "dca60b51",
   "metadata": {},
   "outputs": [
    {
     "data": {
      "text/html": [
       "<div>\n",
       "<style scoped>\n",
       "    .dataframe tbody tr th:only-of-type {\n",
       "        vertical-align: middle;\n",
       "    }\n",
       "\n",
       "    .dataframe tbody tr th {\n",
       "        vertical-align: top;\n",
       "    }\n",
       "\n",
       "    .dataframe thead th {\n",
       "        text-align: right;\n",
       "    }\n",
       "</style>\n",
       "<table border=\"1\" class=\"dataframe\">\n",
       "  <thead>\n",
       "    <tr style=\"text-align: right;\">\n",
       "      <th></th>\n",
       "      <th>student_resid</th>\n",
       "      <th>unadj_p</th>\n",
       "      <th>bonferroni(p)</th>\n",
       "    </tr>\n",
       "  </thead>\n",
       "  <tbody>\n",
       "    <tr>\n",
       "      <th>198</th>\n",
       "      <td>0.489585</td>\n",
       "      <td>0.624493</td>\n",
       "      <td>1.0</td>\n",
       "    </tr>\n",
       "    <tr>\n",
       "      <th>199</th>\n",
       "      <td>0.419303</td>\n",
       "      <td>0.675050</td>\n",
       "      <td>1.0</td>\n",
       "    </tr>\n",
       "    <tr>\n",
       "      <th>200</th>\n",
       "      <td>0.469826</td>\n",
       "      <td>0.638542</td>\n",
       "      <td>1.0</td>\n",
       "    </tr>\n",
       "    <tr>\n",
       "      <th>201</th>\n",
       "      <td>1.474559</td>\n",
       "      <td>0.140523</td>\n",
       "      <td>1.0</td>\n",
       "    </tr>\n",
       "    <tr>\n",
       "      <th>212</th>\n",
       "      <td>0.684089</td>\n",
       "      <td>0.494016</td>\n",
       "      <td>1.0</td>\n",
       "    </tr>\n",
       "    <tr>\n",
       "      <th>...</th>\n",
       "      <td>...</td>\n",
       "      <td>...</td>\n",
       "      <td>...</td>\n",
       "    </tr>\n",
       "    <tr>\n",
       "      <th>2161</th>\n",
       "      <td>-0.626593</td>\n",
       "      <td>0.531013</td>\n",
       "      <td>1.0</td>\n",
       "    </tr>\n",
       "    <tr>\n",
       "      <th>2162</th>\n",
       "      <td>-0.086027</td>\n",
       "      <td>0.931456</td>\n",
       "      <td>1.0</td>\n",
       "    </tr>\n",
       "    <tr>\n",
       "      <th>2163</th>\n",
       "      <td>-0.759383</td>\n",
       "      <td>0.447733</td>\n",
       "      <td>1.0</td>\n",
       "    </tr>\n",
       "    <tr>\n",
       "      <th>2164</th>\n",
       "      <td>-0.308159</td>\n",
       "      <td>0.758001</td>\n",
       "      <td>1.0</td>\n",
       "    </tr>\n",
       "    <tr>\n",
       "      <th>2165</th>\n",
       "      <td>-0.180833</td>\n",
       "      <td>0.856521</td>\n",
       "      <td>1.0</td>\n",
       "    </tr>\n",
       "  </tbody>\n",
       "</table>\n",
       "<p>1645 rows × 3 columns</p>\n",
       "</div>"
      ],
      "text/plain": [
       "      student_resid   unadj_p  bonferroni(p)\n",
       "198        0.489585  0.624493            1.0\n",
       "199        0.419303  0.675050            1.0\n",
       "200        0.469826  0.638542            1.0\n",
       "201        1.474559  0.140523            1.0\n",
       "212        0.684089  0.494016            1.0\n",
       "...             ...       ...            ...\n",
       "2161      -0.626593  0.531013            1.0\n",
       "2162      -0.086027  0.931456            1.0\n",
       "2163      -0.759383  0.447733            1.0\n",
       "2164      -0.308159  0.758001            1.0\n",
       "2165      -0.180833  0.856521            1.0\n",
       "\n",
       "[1645 rows x 3 columns]"
      ]
     },
     "execution_count": 550,
     "metadata": {},
     "output_type": "execute_result"
    }
   ],
   "source": [
    "results.outlier_test(method = 'bonferroni')"
   ]
  },
  {
   "cell_type": "markdown",
   "id": "252a5cf0",
   "metadata": {},
   "source": [
    "## ANOVA RM"
   ]
  },
  {
   "cell_type": "code",
   "execution_count": 592,
   "id": "e1d5eea1",
   "metadata": {},
   "outputs": [
    {
     "name": "stdout",
     "output_type": "stream",
     "text": [
      "              Anova\n",
      "==================================\n",
      "     F Value Num DF  Den DF Pr > F\n",
      "----------------------------------\n",
      "cond  1.5266 4.0000 36.0000 0.2151\n",
      "==================================\n",
      "\n"
     ]
    }
   ],
   "source": [
    "aovrm = AnovaRM(df, \n",
    "                depvar = 'choice_response.rt', \n",
    "                subject = 'participant', \n",
    "                within=['cond'],\n",
    "                #between = ['group'],\n",
    "               aggregate_func = 'mean')\n",
    "res = aovrm.fit()\n",
    "\n",
    "print(res)"
   ]
  },
  {
   "cell_type": "markdown",
   "id": "c9b003be",
   "metadata": {},
   "source": [
    "## Anova LM"
   ]
  },
  {
   "cell_type": "code",
   "execution_count": 593,
   "id": "8b596e46",
   "metadata": {},
   "outputs": [
    {
     "name": "stdout",
     "output_type": "stream",
     "text": [
      "                 sum_sq      df           F  PR(>F)\n",
      "condition  18713.766446     5.0  528.448577     0.0\n",
      "Residual   11615.350401  1640.0         NaN     NaN\n"
     ]
    }
   ],
   "source": [
    "\n",
    "table = sm.stats.anova_lm(results, typ=2) # Type 2 ANOVA DataFrame\n",
    "\n",
    "print(table)"
   ]
  },
  {
   "cell_type": "markdown",
   "id": "02e36ca5",
   "metadata": {},
   "source": [
    "## Accuracy in Choice Trial"
   ]
  }
 ],
 "metadata": {
  "kernelspec": {
   "display_name": "Python 3",
   "language": "python",
   "name": "python3"
  },
  "language_info": {
   "codemirror_mode": {
    "name": "ipython",
    "version": 3
   },
   "file_extension": ".py",
   "mimetype": "text/x-python",
   "name": "python",
   "nbconvert_exporter": "python",
   "pygments_lexer": "ipython3",
   "version": "3.8.8"
  }
 },
 "nbformat": 4,
 "nbformat_minor": 5
}
